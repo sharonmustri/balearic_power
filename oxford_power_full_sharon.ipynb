{
  "nbformat": 4,
  "nbformat_minor": 5,
  "metadata": {
    "kernelspec": {
      "display_name": "Python 3",
      "language": "python",
      "name": "python3"
    },
    "language_info": {
      "codemirror_mode": {
        "name": "ipython",
        "version": 3
      },
      "file_extension": ".py",
      "mimetype": "text/x-python",
      "name": "python",
      "nbconvert_exporter": "python",
      "pygments_lexer": "ipython3",
      "version": "3.8.8"
    },
    "colab": {
      "name": "oxford_power_full_sharon.ipynb",
      "provenance": [],
      "collapsed_sections": [],
      "include_colab_link": true
    }
  },
  "cells": [
    {
      "cell_type": "markdown",
      "metadata": {
        "id": "view-in-github",
        "colab_type": "text"
      },
      "source": [
        "<a href=\"https://colab.research.google.com/github/sharonmustri/balearic_power/blob/main/oxford_power_full_sharon.ipynb\" target=\"_parent\"><img src=\"https://colab.research.google.com/assets/colab-badge.svg\" alt=\"Open In Colab\"/></a>"
      ]
    },
    {
      "cell_type": "code",
      "metadata": {
        "id": "31768a24"
      },
      "source": [
        "## Create network model for Oxfordshire"
      ],
      "id": "31768a24",
      "execution_count": 1,
      "outputs": []
    },
    {
      "cell_type": "code",
      "metadata": {
        "id": "tL_05A8YXl9n"
      },
      "source": [
        "%%capture\n",
        "# install pandapower in colab\n",
        "!pip install pandapower"
      ],
      "id": "tL_05A8YXl9n",
      "execution_count": 2,
      "outputs": []
    },
    {
      "cell_type": "code",
      "metadata": {
        "id": "7f5bdd78-3e00-41bf-a515-c97b75b122b8"
      },
      "source": [
        "# imports\n",
        "import pandas as pd\n",
        "import pandapower as pp\n",
        "from pandapower.plotting.plotly import simple_plotly"
      ],
      "id": "7f5bdd78-3e00-41bf-a515-c97b75b122b8",
      "execution_count": 3,
      "outputs": []
    },
    {
      "cell_type": "code",
      "metadata": {
        "id": "0UBSv3MQ8IJV"
      },
      "source": [
        "### to do\n",
        "\n",
        "# check trafo specs -- gyubin checked\n",
        "# check line specs -- gyubin checked \n",
        "# check pv gen -- multiply by capacity factor of 20%"
      ],
      "id": "0UBSv3MQ8IJV",
      "execution_count": 4,
      "outputs": []
    },
    {
      "cell_type": "code",
      "metadata": {
        "id": "-ML3gQq0GlS9"
      },
      "source": [
        "# key variables\n",
        "# loads\n",
        "ADMD_MW = 2e-3\n",
        "Q_MVAR = 24.2e-3/25\n",
        "# solar\n",
        "pv_MWp = 3.4e-3\n",
        "pv_cf = 0.2"
      ],
      "id": "-ML3gQq0GlS9",
      "execution_count": 5,
      "outputs": []
    },
    {
      "cell_type": "code",
      "metadata": {
        "id": "37fca963-4c79-4dc3-8504-04b05dfa179e"
      },
      "source": [
        "# create network\n",
        "net = pp.create_empty_network() "
      ],
      "id": "37fca963-4c79-4dc3-8504-04b05dfa179e",
      "execution_count": 6,
      "outputs": []
    },
    {
      "cell_type": "code",
      "metadata": {
        "id": "qYsCrZB8xUdw"
      },
      "source": [
        "# layout characteristics\n",
        "start_x = 0\n",
        "start_y = 0\n",
        "\n",
        "# distance between slack bus and 132/11 trafo\n",
        "dist_slack_trafo11 = 0\n",
        "# distance between 132/11 trafo and first house\n",
        "dist_trafo11_hh = 1\n",
        "# length of one side of household square plot\n",
        "hh_side_km = 0.05\n",
        "# distance between main road and first house (main road is 25m across)\n",
        "dist_main_hh = 0.0125\n",
        "# length of a full group of 25 households (3 rows of 8 plus 1, with a 10m road)\n",
        "len_hh_group = 0.160\n",
        "# space between each group of 25 households\n",
        "len_bw_group = 0.02"
      ],
      "id": "qYsCrZB8xUdw",
      "execution_count": 7,
      "outputs": []
    },
    {
      "cell_type": "code",
      "metadata": {
        "id": "Zo0nu1d7xRDO"
      },
      "source": [
        "# create bus dict\n",
        "b = {}"
      ],
      "id": "Zo0nu1d7xRDO",
      "execution_count": 8,
      "outputs": []
    },
    {
      "cell_type": "code",
      "metadata": {
        "id": "imXtI91aEvj6",
        "colab": {
          "base_uri": "https://localhost:8080/"
        },
        "outputId": "fa46de28-5b45-442f-bef0-578d51f98fce"
      },
      "source": [
        "# create bus at 132kV for grid connection\n",
        "x, y = start_x, start_y\n",
        "b[0] = pp.create_bus(net, vn_kv = 132, name = f\"Bus 0\", geodata = (x,y))\n",
        "\n",
        "# create one grid connection point at b0\n",
        "pp.create_ext_grid(net, bus=b[0], vm_pu=1, name = \"Slack bus\")"
      ],
      "id": "imXtI91aEvj6",
      "execution_count": 9,
      "outputs": [
        {
          "output_type": "execute_result",
          "data": {
            "text/plain": [
              "0"
            ]
          },
          "metadata": {},
          "execution_count": 9
        }
      ]
    },
    {
      "cell_type": "code",
      "metadata": {
        "colab": {
          "base_uri": "https://localhost:8080/"
        },
        "id": "21Kx8lFLE8T3",
        "outputId": "e72f7cf0-97df-4b04-f158-5a63f4d88429"
      },
      "source": [
        "# create bus at 11kV for first step down\n",
        "x, y = x + dist_slack_trafo11, y\n",
        "b[1] = pp.create_bus(net, vn_kv = 11, name = f\"Bus 1\", geodata = (x,y))\n",
        "\n",
        "# create one trafo b0 to b1 - from 132 to 11\n",
        "hv_bus = b[0]\n",
        "lv_bus = b[1]\n",
        "\n",
        "sn_mva = 0.5\n",
        "vn_hv_kv = 132\n",
        "vn_lv_kv = 11\n",
        "vk_percent = 10\n",
        "vkr_percent = 1\n",
        "pfe_kw = 5\n",
        "i0_percent = 5\n",
        "\n",
        "pp.create_transformer_from_parameters(net, hv_bus=hv_bus, lv_bus=lv_bus, sn_mva=sn_mva, vn_hv_kv=vn_hv_kv, vn_lv_kv=vn_lv_kv, vkr_percent=vkr_percent, vk_percent=vk_percent, pfe_kw=pfe_kw, i0_percent=i0_percent)"
      ],
      "id": "21Kx8lFLE8T3",
      "execution_count": 10,
      "outputs": [
        {
          "output_type": "execute_result",
          "data": {
            "text/plain": [
              "0"
            ]
          },
          "metadata": {},
          "execution_count": 10
        }
      ]
    },
    {
      "cell_type": "code",
      "metadata": {
        "id": "cXn1tzhn2rGC"
      },
      "source": [
        "# create buses at 11kV and 415V (4 each) for second step-down transformers\n",
        "for i in range(2,6):\n",
        "  if i == 2:\n",
        "    x, y = x + dist_trafo11_hh + len_hh_group/2, y\n",
        "  else: \n",
        "    x, y = x + len_hh_group + len_bw_group, y\n",
        "  b[i] = pp.create_bus(net, vn_kv = 11, name = f\"Bus {i}\", geodata = (x,y))\n",
        "  b[i*10] = pp.create_bus(net, vn_kv = 0.415, name = f\"Bus {i*10}\", geodata = (x,y))\n",
        "\n",
        "  # add bus for each of the 9 bundles up and down of the trafo grouping 25 houses\n",
        "  for j in range(1,10):\n",
        "    x, y = x, start_y + dist_main_hh + hh_side_km*j\n",
        "    b[i*10+j] = pp.create_bus(net, vn_kv = 0.415, name = f\"Bus {i*10+j}\", geodata = (x,y))\n",
        "    b[i*10+j+0.1] = pp.create_bus(net, vn_kv = 0.415, name = f\"Bus {i*10+j+0.1}\", geodata = (x,-y))\n",
        "    \n",
        "  # reset y for next trafo\n",
        "  y = 0"
      ],
      "id": "cXn1tzhn2rGC",
      "execution_count": 11,
      "outputs": []
    },
    {
      "cell_type": "code",
      "metadata": {
        "id": "dJiXZ4Py2rXs"
      },
      "source": [
        "# create four trafos - from 11kV to .415kV for b2/20, b3/30, b4/40, b5/50\n",
        "sn_mva = 0.12\n",
        "vn_hv_kv = 11\n",
        "vn_lv_kv = 0.415\n",
        "vk_percent = 10\n",
        "vkr_percent = 1\n",
        "pfe_kw = 1.2\n",
        "i0_percent = 5\n",
        "\n",
        "for i in range(2,6):\n",
        "  hv_bus = b[i]\n",
        "  lv_bus = b[i*10]\n",
        "  pp.create_transformer_from_parameters(net, hv_bus=hv_bus, lv_bus=lv_bus, sn_mva=sn_mva, vn_hv_kv=vn_hv_kv, vn_lv_kv=vn_lv_kv, vkr_percent=vkr_percent, vk_percent=vk_percent, pfe_kw=pfe_kw, i0_percent=i0_percent)"
      ],
      "id": "dJiXZ4Py2rXs",
      "execution_count": 12,
      "outputs": []
    },
    {
      "cell_type": "code",
      "metadata": {
        "id": "TNcczQ603lC1"
      },
      "source": [
        "# create line at 11kV from b1 to b2 to b3 to b4 to b5\n",
        "r_ohm_per_km = 0.411\n",
        "x_ohm_per_km = 0.131\n",
        "c_nf_per_km = 0.00031\n",
        "max_i_ka = 0.1\n",
        "\n",
        "for i in range(1,5):\n",
        "  from_bus = b[i]\n",
        "  to_bus = b[i+1]\n",
        "  if i == 1:\n",
        "    length_km = dist_trafo11_hh + len_hh_group/2\n",
        "  else:\n",
        "    length_km = len_hh_group + len_bw_group\n",
        "  pp.create_line_from_parameters(net, from_bus=from_bus, to_bus=to_bus, length_km=length_km, r_ohm_per_km=r_ohm_per_km, x_ohm_per_km=x_ohm_per_km, c_nf_per_km=c_nf_per_km, max_i_ka=max_i_ka) "
      ],
      "id": "TNcczQ603lC1",
      "execution_count": 13,
      "outputs": []
    },
    {
      "cell_type": "code",
      "metadata": {
        "id": "S8yP4AXu3lId"
      },
      "source": [
        "# create upward/downward lines at 415V from each trafo\n",
        "r_ohm_per_km = 0.5     \n",
        "x_ohm_per_km = 0.09\n",
        "c_nf_per_km = 1e-9\n",
        "max_i_ka = 0.15\n",
        "\n",
        "for i in range(2,6):\n",
        "  for j in range(1,10):\n",
        "    if j == 1:\n",
        "      length_km = hh_side_km + dist_main_hh\n",
        "    else: \n",
        "      length_km = hh_side_km\n",
        "    # upward\n",
        "    from_bus = b[i*10+j-1]  \n",
        "    to_bus = b[i*10+j]\n",
        "    pp.create_line_from_parameters(net, from_bus=from_bus, to_bus=to_bus, length_km=length_km, r_ohm_per_km=r_ohm_per_km, x_ohm_per_km=x_ohm_per_km, c_nf_per_km=c_nf_per_km, max_i_ka=max_i_ka)     \n",
        "    # downward\n",
        "    if j == 1:\n",
        "      from_bus = b[i*10]\n",
        "    else:\n",
        "      from_bus = b[i*10+j-1+0.1]  \n",
        "    to_bus = b[i*10+j+0.1]\n",
        "    pp.create_line_from_parameters(net, from_bus=from_bus, to_bus=to_bus, length_km=length_km, r_ohm_per_km=r_ohm_per_km, x_ohm_per_km=x_ohm_per_km, c_nf_per_km=c_nf_per_km, max_i_ka=max_i_ka) "
      ],
      "id": "S8yP4AXu3lId",
      "execution_count": 14,
      "outputs": []
    },
    {
      "cell_type": "code",
      "metadata": {
        "colab": {
          "base_uri": "https://localhost:8080/",
          "height": 417
        },
        "id": "aRsYqira2rZy",
        "outputId": "4d797dfa-2a23-461b-f96e-a8bfe3fa03f6"
      },
      "source": [
        "simple_plotly(net)"
      ],
      "id": "aRsYqira2rZy",
      "execution_count": 15,
      "outputs": [
        {
          "output_type": "display_data",
          "data": {
            "text/html": [
              "<html>\n",
              "<head><meta charset=\"utf-8\" /></head>\n",
              "<body>\n",
              "    <div>\n",
              "            <script src=\"https://cdnjs.cloudflare.com/ajax/libs/mathjax/2.7.5/MathJax.js?config=TeX-AMS-MML_SVG\"></script><script type=\"text/javascript\">if (window.MathJax) {MathJax.Hub.Config({SVG: {font: \"STIX-Web\"}});}</script>\n",
              "                <script type=\"text/javascript\">window.PlotlyConfig = {MathJaxConfig: 'local'};</script>\n",
              "        <script src=\"https://cdn.plot.ly/plotly-latest.min.js\"></script>    \n",
              "            <div id=\"d7548cd7-8cb4-4419-ba44-e8cd1bdce931\" class=\"plotly-graph-div\" style=\"height:399.6913580246914px; width:700.0px;\"></div>\n",
              "            <script type=\"text/javascript\">\n",
              "                \n",
              "                    window.PLOTLYENV=window.PLOTLYENV || {};\n",
              "                    \n",
              "                if (document.getElementById(\"d7548cd7-8cb4-4419-ba44-e8cd1bdce931\")) {\n",
              "                    Plotly.newPlot(\n",
              "                        'd7548cd7-8cb4-4419-ba44-e8cd1bdce931',\n",
              "                        [{\"hoverinfo\": \"text\", \"line\": {\"color\": \"rgb(128, 128, 128)\", \"width\": 1}, \"mode\": \"lines\", \"name\": \"lines\", \"type\": \"scatter\", \"x\": [0.0, 0.54, 1.08], \"y\": [0.0, 0.0, 0.0]}, {\"hoverinfo\": \"text\", \"line\": {\"color\": \"rgb(128, 128, 128)\", \"width\": 1}, \"mode\": \"lines\", \"name\": \"lines\", \"type\": \"scatter\", \"x\": [1.08, 1.17, 1.26], \"y\": [0.0, 0.0, 0.0]}, {\"hoverinfo\": \"text\", \"line\": {\"color\": \"rgb(128, 128, 128)\", \"width\": 1}, \"mode\": \"lines\", \"name\": \"lines\", \"type\": \"scatter\", \"x\": [1.26, 1.35, 1.44], \"y\": [0.0, 0.0, 0.0]}, {\"hoverinfo\": \"text\", \"line\": {\"color\": \"rgb(128, 128, 128)\", \"width\": 1}, \"mode\": \"lines\", \"name\": \"lines\", \"type\": \"scatter\", \"x\": [1.44, 1.5299999999999998, 1.6199999999999999], \"y\": [0.0, 0.0, 0.0]}, {\"hoverinfo\": \"text\", \"line\": {\"color\": \"rgb(128, 128, 128)\", \"width\": 1}, \"mode\": \"lines\", \"name\": \"lines\", \"type\": \"scatter\", \"x\": [1.08, 1.08, 1.08], \"y\": [0.0, 0.03125, 0.0625]}, {\"hoverinfo\": \"text\", \"line\": {\"color\": \"rgb(128, 128, 128)\", \"width\": 1}, \"mode\": \"lines\", \"name\": \"lines\", \"type\": \"scatter\", \"x\": [1.08, 1.08, 1.08], \"y\": [0.0, -0.03125, -0.0625]}, {\"hoverinfo\": \"text\", \"line\": {\"color\": \"rgb(128, 128, 128)\", \"width\": 1}, \"mode\": \"lines\", \"name\": \"lines\", \"type\": \"scatter\", \"x\": [1.08, 1.08, 1.08], \"y\": [0.0625, 0.0875, 0.1125]}, {\"hoverinfo\": \"text\", \"line\": {\"color\": \"rgb(128, 128, 128)\", \"width\": 1}, \"mode\": \"lines\", \"name\": \"lines\", \"type\": \"scatter\", \"x\": [1.08, 1.08, 1.08], \"y\": [-0.0625, -0.0875, -0.1125]}, {\"hoverinfo\": \"text\", \"line\": {\"color\": \"rgb(128, 128, 128)\", \"width\": 1}, \"mode\": \"lines\", \"name\": \"lines\", \"type\": \"scatter\", \"x\": [1.08, 1.08, 1.08], \"y\": [0.1125, 0.1375, 0.16250000000000003]}, {\"hoverinfo\": \"text\", \"line\": {\"color\": \"rgb(128, 128, 128)\", \"width\": 1}, \"mode\": \"lines\", \"name\": \"lines\", \"type\": \"scatter\", \"x\": [1.08, 1.08, 1.08], \"y\": [-0.1125, -0.1375, -0.16250000000000003]}, {\"hoverinfo\": \"text\", \"line\": {\"color\": \"rgb(128, 128, 128)\", \"width\": 1}, \"mode\": \"lines\", \"name\": \"lines\", \"type\": \"scatter\", \"x\": [1.08, 1.08, 1.08], \"y\": [0.16250000000000003, 0.18750000000000003, 0.21250000000000002]}, {\"hoverinfo\": \"text\", \"line\": {\"color\": \"rgb(128, 128, 128)\", \"width\": 1}, \"mode\": \"lines\", \"name\": \"lines\", \"type\": \"scatter\", \"x\": [1.08, 1.08, 1.08], \"y\": [-0.16250000000000003, -0.18750000000000003, -0.21250000000000002]}, {\"hoverinfo\": \"text\", \"line\": {\"color\": \"rgb(128, 128, 128)\", \"width\": 1}, \"mode\": \"lines\", \"name\": \"lines\", \"type\": \"scatter\", \"x\": [1.08, 1.08, 1.08], \"y\": [0.21250000000000002, 0.23750000000000002, 0.2625]}, {\"hoverinfo\": \"text\", \"line\": {\"color\": \"rgb(128, 128, 128)\", \"width\": 1}, \"mode\": \"lines\", \"name\": \"lines\", \"type\": \"scatter\", \"x\": [1.08, 1.08, 1.08], \"y\": [-0.21250000000000002, -0.23750000000000002, -0.2625]}, {\"hoverinfo\": \"text\", \"line\": {\"color\": \"rgb(128, 128, 128)\", \"width\": 1}, \"mode\": \"lines\", \"name\": \"lines\", \"type\": \"scatter\", \"x\": [1.08, 1.08, 1.08], \"y\": [0.2625, 0.28750000000000003, 0.31250000000000006]}, {\"hoverinfo\": \"text\", \"line\": {\"color\": \"rgb(128, 128, 128)\", \"width\": 1}, \"mode\": \"lines\", \"name\": \"lines\", \"type\": \"scatter\", \"x\": [1.08, 1.08, 1.08], \"y\": [-0.2625, -0.28750000000000003, -0.31250000000000006]}, {\"hoverinfo\": \"text\", \"line\": {\"color\": \"rgb(128, 128, 128)\", \"width\": 1}, \"mode\": \"lines\", \"name\": \"lines\", \"type\": \"scatter\", \"x\": [1.08, 1.08, 1.08], \"y\": [0.31250000000000006, 0.3375, 0.36250000000000004]}, {\"hoverinfo\": \"text\", \"line\": {\"color\": \"rgb(128, 128, 128)\", \"width\": 1}, \"mode\": \"lines\", \"name\": \"lines\", \"type\": \"scatter\", \"x\": [1.08, 1.08, 1.08], \"y\": [-0.31250000000000006, -0.3375, -0.36250000000000004]}, {\"hoverinfo\": \"text\", \"line\": {\"color\": \"rgb(128, 128, 128)\", \"width\": 1}, \"mode\": \"lines\", \"name\": \"lines\", \"type\": \"scatter\", \"x\": [1.08, 1.08, 1.08], \"y\": [0.36250000000000004, 0.38750000000000007, 0.41250000000000003]}, {\"hoverinfo\": \"text\", \"line\": {\"color\": \"rgb(128, 128, 128)\", \"width\": 1}, \"mode\": \"lines\", \"name\": \"lines\", \"type\": \"scatter\", \"x\": [1.08, 1.08, 1.08], \"y\": [-0.36250000000000004, -0.38750000000000007, -0.41250000000000003]}, {\"hoverinfo\": \"text\", \"line\": {\"color\": \"rgb(128, 128, 128)\", \"width\": 1}, \"mode\": \"lines\", \"name\": \"lines\", \"type\": \"scatter\", \"x\": [1.08, 1.08, 1.08], \"y\": [0.41250000000000003, 0.4375, 0.4625]}, {\"hoverinfo\": \"text\", \"line\": {\"color\": \"rgb(128, 128, 128)\", \"width\": 1}, \"mode\": \"lines\", \"name\": \"lines\", \"type\": \"scatter\", \"x\": [1.08, 1.08, 1.08], \"y\": [-0.41250000000000003, -0.4375, -0.4625]}, {\"hoverinfo\": \"text\", \"line\": {\"color\": \"rgb(128, 128, 128)\", \"width\": 1}, \"mode\": \"lines\", \"name\": \"lines\", \"type\": \"scatter\", \"x\": [1.26, 1.26, 1.26], \"y\": [0.0, 0.03125, 0.0625]}, {\"hoverinfo\": \"text\", \"line\": {\"color\": \"rgb(128, 128, 128)\", \"width\": 1}, \"mode\": \"lines\", \"name\": \"lines\", \"type\": \"scatter\", \"x\": [1.26, 1.26, 1.26], \"y\": [0.0, -0.03125, -0.0625]}, {\"hoverinfo\": \"text\", \"line\": {\"color\": \"rgb(128, 128, 128)\", \"width\": 1}, \"mode\": \"lines\", \"name\": \"lines\", \"type\": \"scatter\", \"x\": [1.26, 1.26, 1.26], \"y\": [0.0625, 0.0875, 0.1125]}, {\"hoverinfo\": \"text\", \"line\": {\"color\": \"rgb(128, 128, 128)\", \"width\": 1}, \"mode\": \"lines\", \"name\": \"lines\", \"type\": \"scatter\", \"x\": [1.26, 1.26, 1.26], \"y\": [-0.0625, -0.0875, -0.1125]}, {\"hoverinfo\": \"text\", \"line\": {\"color\": \"rgb(128, 128, 128)\", \"width\": 1}, \"mode\": \"lines\", \"name\": \"lines\", \"type\": \"scatter\", \"x\": [1.26, 1.26, 1.26], \"y\": [0.1125, 0.1375, 0.16250000000000003]}, {\"hoverinfo\": \"text\", \"line\": {\"color\": \"rgb(128, 128, 128)\", \"width\": 1}, \"mode\": \"lines\", \"name\": \"lines\", \"type\": \"scatter\", \"x\": [1.26, 1.26, 1.26], \"y\": [-0.1125, -0.1375, -0.16250000000000003]}, {\"hoverinfo\": \"text\", \"line\": {\"color\": \"rgb(128, 128, 128)\", \"width\": 1}, \"mode\": \"lines\", \"name\": \"lines\", \"type\": \"scatter\", \"x\": [1.26, 1.26, 1.26], \"y\": [0.16250000000000003, 0.18750000000000003, 0.21250000000000002]}, {\"hoverinfo\": \"text\", \"line\": {\"color\": \"rgb(128, 128, 128)\", \"width\": 1}, \"mode\": \"lines\", \"name\": \"lines\", \"type\": \"scatter\", \"x\": [1.26, 1.26, 1.26], \"y\": [-0.16250000000000003, -0.18750000000000003, -0.21250000000000002]}, {\"hoverinfo\": \"text\", \"line\": {\"color\": \"rgb(128, 128, 128)\", \"width\": 1}, \"mode\": \"lines\", \"name\": \"lines\", \"type\": \"scatter\", \"x\": [1.26, 1.26, 1.26], \"y\": [0.21250000000000002, 0.23750000000000002, 0.2625]}, {\"hoverinfo\": \"text\", \"line\": {\"color\": \"rgb(128, 128, 128)\", \"width\": 1}, \"mode\": \"lines\", \"name\": \"lines\", \"type\": \"scatter\", \"x\": [1.26, 1.26, 1.26], \"y\": [-0.21250000000000002, -0.23750000000000002, -0.2625]}, {\"hoverinfo\": \"text\", \"line\": {\"color\": \"rgb(128, 128, 128)\", \"width\": 1}, \"mode\": \"lines\", \"name\": \"lines\", \"type\": \"scatter\", \"x\": [1.26, 1.26, 1.26], \"y\": [0.2625, 0.28750000000000003, 0.31250000000000006]}, {\"hoverinfo\": \"text\", \"line\": {\"color\": \"rgb(128, 128, 128)\", \"width\": 1}, \"mode\": \"lines\", \"name\": \"lines\", \"type\": \"scatter\", \"x\": [1.26, 1.26, 1.26], \"y\": [-0.2625, -0.28750000000000003, -0.31250000000000006]}, {\"hoverinfo\": \"text\", \"line\": {\"color\": \"rgb(128, 128, 128)\", \"width\": 1}, \"mode\": \"lines\", \"name\": \"lines\", \"type\": \"scatter\", \"x\": [1.26, 1.26, 1.26], \"y\": [0.31250000000000006, 0.3375, 0.36250000000000004]}, {\"hoverinfo\": \"text\", \"line\": {\"color\": \"rgb(128, 128, 128)\", \"width\": 1}, \"mode\": \"lines\", \"name\": \"lines\", \"type\": \"scatter\", \"x\": [1.26, 1.26, 1.26], \"y\": [-0.31250000000000006, -0.3375, -0.36250000000000004]}, {\"hoverinfo\": \"text\", \"line\": {\"color\": \"rgb(128, 128, 128)\", \"width\": 1}, \"mode\": \"lines\", \"name\": \"lines\", \"type\": \"scatter\", \"x\": [1.26, 1.26, 1.26], \"y\": [0.36250000000000004, 0.38750000000000007, 0.41250000000000003]}, {\"hoverinfo\": \"text\", \"line\": {\"color\": \"rgb(128, 128, 128)\", \"width\": 1}, \"mode\": \"lines\", \"name\": \"lines\", \"type\": \"scatter\", \"x\": [1.26, 1.26, 1.26], \"y\": [-0.36250000000000004, -0.38750000000000007, -0.41250000000000003]}, {\"hoverinfo\": \"text\", \"line\": {\"color\": \"rgb(128, 128, 128)\", \"width\": 1}, \"mode\": \"lines\", \"name\": \"lines\", \"type\": \"scatter\", \"x\": [1.26, 1.26, 1.26], \"y\": [0.41250000000000003, 0.4375, 0.4625]}, {\"hoverinfo\": \"text\", \"line\": {\"color\": \"rgb(128, 128, 128)\", \"width\": 1}, \"mode\": \"lines\", \"name\": \"lines\", \"type\": \"scatter\", \"x\": [1.26, 1.26, 1.26], \"y\": [-0.41250000000000003, -0.4375, -0.4625]}, {\"hoverinfo\": \"text\", \"line\": {\"color\": \"rgb(128, 128, 128)\", \"width\": 1}, \"mode\": \"lines\", \"name\": \"lines\", \"type\": \"scatter\", \"x\": [1.44, 1.44, 1.44], \"y\": [0.0, 0.03125, 0.0625]}, {\"hoverinfo\": \"text\", \"line\": {\"color\": \"rgb(128, 128, 128)\", \"width\": 1}, \"mode\": \"lines\", \"name\": \"lines\", \"type\": \"scatter\", \"x\": [1.44, 1.44, 1.44], \"y\": [0.0, -0.03125, -0.0625]}, {\"hoverinfo\": \"text\", \"line\": {\"color\": \"rgb(128, 128, 128)\", \"width\": 1}, \"mode\": \"lines\", \"name\": \"lines\", \"type\": \"scatter\", \"x\": [1.44, 1.44, 1.44], \"y\": [0.0625, 0.0875, 0.1125]}, {\"hoverinfo\": \"text\", \"line\": {\"color\": \"rgb(128, 128, 128)\", \"width\": 1}, \"mode\": \"lines\", \"name\": \"lines\", \"type\": \"scatter\", \"x\": [1.44, 1.44, 1.44], \"y\": [-0.0625, -0.0875, -0.1125]}, {\"hoverinfo\": \"text\", \"line\": {\"color\": \"rgb(128, 128, 128)\", \"width\": 1}, \"mode\": \"lines\", \"name\": \"lines\", \"type\": \"scatter\", \"x\": [1.44, 1.44, 1.44], \"y\": [0.1125, 0.1375, 0.16250000000000003]}, {\"hoverinfo\": \"text\", \"line\": {\"color\": \"rgb(128, 128, 128)\", \"width\": 1}, \"mode\": \"lines\", \"name\": \"lines\", \"type\": \"scatter\", \"x\": [1.44, 1.44, 1.44], \"y\": [-0.1125, -0.1375, -0.16250000000000003]}, {\"hoverinfo\": \"text\", \"line\": {\"color\": \"rgb(128, 128, 128)\", \"width\": 1}, \"mode\": \"lines\", \"name\": \"lines\", \"type\": \"scatter\", \"x\": [1.44, 1.44, 1.44], \"y\": [0.16250000000000003, 0.18750000000000003, 0.21250000000000002]}, {\"hoverinfo\": \"text\", \"line\": {\"color\": \"rgb(128, 128, 128)\", \"width\": 1}, \"mode\": \"lines\", \"name\": \"lines\", \"type\": \"scatter\", \"x\": [1.44, 1.44, 1.44], \"y\": [-0.16250000000000003, -0.18750000000000003, -0.21250000000000002]}, {\"hoverinfo\": \"text\", \"line\": {\"color\": \"rgb(128, 128, 128)\", \"width\": 1}, \"mode\": \"lines\", \"name\": \"lines\", \"type\": \"scatter\", \"x\": [1.44, 1.44, 1.44], \"y\": [0.21250000000000002, 0.23750000000000002, 0.2625]}, {\"hoverinfo\": \"text\", \"line\": {\"color\": \"rgb(128, 128, 128)\", \"width\": 1}, \"mode\": \"lines\", \"name\": \"lines\", \"type\": \"scatter\", \"x\": [1.44, 1.44, 1.44], \"y\": [-0.21250000000000002, -0.23750000000000002, -0.2625]}, {\"hoverinfo\": \"text\", \"line\": {\"color\": \"rgb(128, 128, 128)\", \"width\": 1}, \"mode\": \"lines\", \"name\": \"lines\", \"type\": \"scatter\", \"x\": [1.44, 1.44, 1.44], \"y\": [0.2625, 0.28750000000000003, 0.31250000000000006]}, {\"hoverinfo\": \"text\", \"line\": {\"color\": \"rgb(128, 128, 128)\", \"width\": 1}, \"mode\": \"lines\", \"name\": \"lines\", \"type\": \"scatter\", \"x\": [1.44, 1.44, 1.44], \"y\": [-0.2625, -0.28750000000000003, -0.31250000000000006]}, {\"hoverinfo\": \"text\", \"line\": {\"color\": \"rgb(128, 128, 128)\", \"width\": 1}, \"mode\": \"lines\", \"name\": \"lines\", \"type\": \"scatter\", \"x\": [1.44, 1.44, 1.44], \"y\": [0.31250000000000006, 0.3375, 0.36250000000000004]}, {\"hoverinfo\": \"text\", \"line\": {\"color\": \"rgb(128, 128, 128)\", \"width\": 1}, \"mode\": \"lines\", \"name\": \"lines\", \"type\": \"scatter\", \"x\": [1.44, 1.44, 1.44], \"y\": [-0.31250000000000006, -0.3375, -0.36250000000000004]}, {\"hoverinfo\": \"text\", \"line\": {\"color\": \"rgb(128, 128, 128)\", \"width\": 1}, \"mode\": \"lines\", \"name\": \"lines\", \"type\": \"scatter\", \"x\": [1.44, 1.44, 1.44], \"y\": [0.36250000000000004, 0.38750000000000007, 0.41250000000000003]}, {\"hoverinfo\": \"text\", \"line\": {\"color\": \"rgb(128, 128, 128)\", \"width\": 1}, \"mode\": \"lines\", \"name\": \"lines\", \"type\": \"scatter\", \"x\": [1.44, 1.44, 1.44], \"y\": [-0.36250000000000004, -0.38750000000000007, -0.41250000000000003]}, {\"hoverinfo\": \"text\", \"line\": {\"color\": \"rgb(128, 128, 128)\", \"width\": 1}, \"mode\": \"lines\", \"name\": \"lines\", \"type\": \"scatter\", \"x\": [1.44, 1.44, 1.44], \"y\": [0.41250000000000003, 0.4375, 0.4625]}, {\"hoverinfo\": \"text\", \"line\": {\"color\": \"rgb(128, 128, 128)\", \"width\": 1}, \"mode\": \"lines\", \"name\": \"lines\", \"type\": \"scatter\", \"x\": [1.44, 1.44, 1.44], \"y\": [-0.41250000000000003, -0.4375, -0.4625]}, {\"hoverinfo\": \"text\", \"line\": {\"color\": \"rgb(128, 128, 128)\", \"width\": 1}, \"mode\": \"lines\", \"name\": \"lines\", \"type\": \"scatter\", \"x\": [1.6199999999999999, 1.6199999999999999, 1.6199999999999999], \"y\": [0.0, 0.03125, 0.0625]}, {\"hoverinfo\": \"text\", \"line\": {\"color\": \"rgb(128, 128, 128)\", \"width\": 1}, \"mode\": \"lines\", \"name\": \"lines\", \"type\": \"scatter\", \"x\": [1.6199999999999999, 1.6199999999999999, 1.6199999999999999], \"y\": [0.0, -0.03125, -0.0625]}, {\"hoverinfo\": \"text\", \"line\": {\"color\": \"rgb(128, 128, 128)\", \"width\": 1}, \"mode\": \"lines\", \"name\": \"lines\", \"type\": \"scatter\", \"x\": [1.6199999999999999, 1.6199999999999999, 1.6199999999999999], \"y\": [0.0625, 0.0875, 0.1125]}, {\"hoverinfo\": \"text\", \"line\": {\"color\": \"rgb(128, 128, 128)\", \"width\": 1}, \"mode\": \"lines\", \"name\": \"lines\", \"type\": \"scatter\", \"x\": [1.6199999999999999, 1.6199999999999999, 1.6199999999999999], \"y\": [-0.0625, -0.0875, -0.1125]}, {\"hoverinfo\": \"text\", \"line\": {\"color\": \"rgb(128, 128, 128)\", \"width\": 1}, \"mode\": \"lines\", \"name\": \"lines\", \"type\": \"scatter\", \"x\": [1.6199999999999999, 1.6199999999999999, 1.6199999999999999], \"y\": [0.1125, 0.1375, 0.16250000000000003]}, {\"hoverinfo\": \"text\", \"line\": {\"color\": \"rgb(128, 128, 128)\", \"width\": 1}, \"mode\": \"lines\", \"name\": \"lines\", \"type\": \"scatter\", \"x\": [1.6199999999999999, 1.6199999999999999, 1.6199999999999999], \"y\": [-0.1125, -0.1375, -0.16250000000000003]}, {\"hoverinfo\": \"text\", \"line\": {\"color\": \"rgb(128, 128, 128)\", \"width\": 1}, \"mode\": \"lines\", \"name\": \"lines\", \"type\": \"scatter\", \"x\": [1.6199999999999999, 1.6199999999999999, 1.6199999999999999], \"y\": [0.16250000000000003, 0.18750000000000003, 0.21250000000000002]}, {\"hoverinfo\": \"text\", \"line\": {\"color\": \"rgb(128, 128, 128)\", \"width\": 1}, \"mode\": \"lines\", \"name\": \"lines\", \"type\": \"scatter\", \"x\": [1.6199999999999999, 1.6199999999999999, 1.6199999999999999], \"y\": [-0.16250000000000003, -0.18750000000000003, -0.21250000000000002]}, {\"hoverinfo\": \"text\", \"line\": {\"color\": \"rgb(128, 128, 128)\", \"width\": 1}, \"mode\": \"lines\", \"name\": \"lines\", \"type\": \"scatter\", \"x\": [1.6199999999999999, 1.6199999999999999, 1.6199999999999999], \"y\": [0.21250000000000002, 0.23750000000000002, 0.2625]}, {\"hoverinfo\": \"text\", \"line\": {\"color\": \"rgb(128, 128, 128)\", \"width\": 1}, \"mode\": \"lines\", \"name\": \"lines\", \"type\": \"scatter\", \"x\": [1.6199999999999999, 1.6199999999999999, 1.6199999999999999], \"y\": [-0.21250000000000002, -0.23750000000000002, -0.2625]}, {\"hoverinfo\": \"text\", \"line\": {\"color\": \"rgb(128, 128, 128)\", \"width\": 1}, \"mode\": \"lines\", \"name\": \"lines\", \"type\": \"scatter\", \"x\": [1.6199999999999999, 1.6199999999999999, 1.6199999999999999], \"y\": [0.2625, 0.28750000000000003, 0.31250000000000006]}, {\"hoverinfo\": \"text\", \"line\": {\"color\": \"rgb(128, 128, 128)\", \"width\": 1}, \"mode\": \"lines\", \"name\": \"lines\", \"type\": \"scatter\", \"x\": [1.6199999999999999, 1.6199999999999999, 1.6199999999999999], \"y\": [-0.2625, -0.28750000000000003, -0.31250000000000006]}, {\"hoverinfo\": \"text\", \"line\": {\"color\": \"rgb(128, 128, 128)\", \"width\": 1}, \"mode\": \"lines\", \"name\": \"lines\", \"type\": \"scatter\", \"x\": [1.6199999999999999, 1.6199999999999999, 1.6199999999999999], \"y\": [0.31250000000000006, 0.3375, 0.36250000000000004]}, {\"hoverinfo\": \"text\", \"line\": {\"color\": \"rgb(128, 128, 128)\", \"width\": 1}, \"mode\": \"lines\", \"name\": \"lines\", \"type\": \"scatter\", \"x\": [1.6199999999999999, 1.6199999999999999, 1.6199999999999999], \"y\": [-0.31250000000000006, -0.3375, -0.36250000000000004]}, {\"hoverinfo\": \"text\", \"line\": {\"color\": \"rgb(128, 128, 128)\", \"width\": 1}, \"mode\": \"lines\", \"name\": \"lines\", \"type\": \"scatter\", \"x\": [1.6199999999999999, 1.6199999999999999, 1.6199999999999999], \"y\": [0.36250000000000004, 0.38750000000000007, 0.41250000000000003]}, {\"hoverinfo\": \"text\", \"line\": {\"color\": \"rgb(128, 128, 128)\", \"width\": 1}, \"mode\": \"lines\", \"name\": \"lines\", \"type\": \"scatter\", \"x\": [1.6199999999999999, 1.6199999999999999, 1.6199999999999999], \"y\": [-0.36250000000000004, -0.38750000000000007, -0.41250000000000003]}, {\"hoverinfo\": \"text\", \"line\": {\"color\": \"rgb(128, 128, 128)\", \"width\": 1}, \"mode\": \"lines\", \"name\": \"lines\", \"type\": \"scatter\", \"x\": [1.6199999999999999, 1.6199999999999999, 1.6199999999999999], \"y\": [0.41250000000000003, 0.4375, 0.4625]}, {\"hoverinfo\": \"text\", \"line\": {\"color\": \"rgb(128, 128, 128)\", \"width\": 1}, \"mode\": \"lines\", \"name\": \"lines\", \"type\": \"scatter\", \"x\": [1.6199999999999999, 1.6199999999999999, 1.6199999999999999], \"y\": [-0.41250000000000003, -0.4375, -0.4625]}, {\"hoverinfo\": \"text\", \"marker\": {\"color\": \"rgb(128, 128, 128)\", \"size\": 1, \"symbol\": \"circle\"}, \"mode\": \"markers\", \"name\": \"edge_center\", \"text\": [\"Index: 0<br />Name: None<br />Length: 1.08 km<br />R: 0.444 Ohm<br />X: 0.141 Ohm<br />\", \"Index: 1<br />Name: None<br />Length: 0.18 km<br />R: 0.074 Ohm<br />X: 0.024 Ohm<br />\", \"Index: 2<br />Name: None<br />Length: 0.18 km<br />R: 0.074 Ohm<br />X: 0.024 Ohm<br />\", \"Index: 3<br />Name: None<br />Length: 0.18 km<br />R: 0.074 Ohm<br />X: 0.024 Ohm<br />\", \"Index: 4<br />Name: None<br />Length: 0.062 km<br />R: 0.031 Ohm<br />X: 0.006 Ohm<br />\", \"Index: 5<br />Name: None<br />Length: 0.062 km<br />R: 0.031 Ohm<br />X: 0.006 Ohm<br />\", \"Index: 6<br />Name: None<br />Length: 0.05 km<br />R: 0.025 Ohm<br />X: 0.004 Ohm<br />\", \"Index: 7<br />Name: None<br />Length: 0.05 km<br />R: 0.025 Ohm<br />X: 0.004 Ohm<br />\", \"Index: 8<br />Name: None<br />Length: 0.05 km<br />R: 0.025 Ohm<br />X: 0.004 Ohm<br />\", \"Index: 9<br />Name: None<br />Length: 0.05 km<br />R: 0.025 Ohm<br />X: 0.004 Ohm<br />\", \"Index: 10<br />Name: None<br />Length: 0.05 km<br />R: 0.025 Ohm<br />X: 0.004 Ohm<br />\", \"Index: 11<br />Name: None<br />Length: 0.05 km<br />R: 0.025 Ohm<br />X: 0.004 Ohm<br />\", \"Index: 12<br />Name: None<br />Length: 0.05 km<br />R: 0.025 Ohm<br />X: 0.004 Ohm<br />\", \"Index: 13<br />Name: None<br />Length: 0.05 km<br />R: 0.025 Ohm<br />X: 0.004 Ohm<br />\", \"Index: 14<br />Name: None<br />Length: 0.05 km<br />R: 0.025 Ohm<br />X: 0.004 Ohm<br />\", \"Index: 15<br />Name: None<br />Length: 0.05 km<br />R: 0.025 Ohm<br />X: 0.004 Ohm<br />\", \"Index: 16<br />Name: None<br />Length: 0.05 km<br />R: 0.025 Ohm<br />X: 0.004 Ohm<br />\", \"Index: 17<br />Name: None<br />Length: 0.05 km<br />R: 0.025 Ohm<br />X: 0.004 Ohm<br />\", \"Index: 18<br />Name: None<br />Length: 0.05 km<br />R: 0.025 Ohm<br />X: 0.004 Ohm<br />\", \"Index: 19<br />Name: None<br />Length: 0.05 km<br />R: 0.025 Ohm<br />X: 0.004 Ohm<br />\", \"Index: 20<br />Name: None<br />Length: 0.05 km<br />R: 0.025 Ohm<br />X: 0.004 Ohm<br />\", \"Index: 21<br />Name: None<br />Length: 0.05 km<br />R: 0.025 Ohm<br />X: 0.004 Ohm<br />\", \"Index: 22<br />Name: None<br />Length: 0.062 km<br />R: 0.031 Ohm<br />X: 0.006 Ohm<br />\", \"Index: 23<br />Name: None<br />Length: 0.062 km<br />R: 0.031 Ohm<br />X: 0.006 Ohm<br />\", \"Index: 24<br />Name: None<br />Length: 0.05 km<br />R: 0.025 Ohm<br />X: 0.004 Ohm<br />\", \"Index: 25<br />Name: None<br />Length: 0.05 km<br />R: 0.025 Ohm<br />X: 0.004 Ohm<br />\", \"Index: 26<br />Name: None<br />Length: 0.05 km<br />R: 0.025 Ohm<br />X: 0.004 Ohm<br />\", \"Index: 27<br />Name: None<br />Length: 0.05 km<br />R: 0.025 Ohm<br />X: 0.004 Ohm<br />\", \"Index: 28<br />Name: None<br />Length: 0.05 km<br />R: 0.025 Ohm<br />X: 0.004 Ohm<br />\", \"Index: 29<br />Name: None<br />Length: 0.05 km<br />R: 0.025 Ohm<br />X: 0.004 Ohm<br />\", \"Index: 30<br />Name: None<br />Length: 0.05 km<br />R: 0.025 Ohm<br />X: 0.004 Ohm<br />\", \"Index: 31<br />Name: None<br />Length: 0.05 km<br />R: 0.025 Ohm<br />X: 0.004 Ohm<br />\", \"Index: 32<br />Name: None<br />Length: 0.05 km<br />R: 0.025 Ohm<br />X: 0.004 Ohm<br />\", \"Index: 33<br />Name: None<br />Length: 0.05 km<br />R: 0.025 Ohm<br />X: 0.004 Ohm<br />\", \"Index: 34<br />Name: None<br />Length: 0.05 km<br />R: 0.025 Ohm<br />X: 0.004 Ohm<br />\", \"Index: 35<br />Name: None<br />Length: 0.05 km<br />R: 0.025 Ohm<br />X: 0.004 Ohm<br />\", \"Index: 36<br />Name: None<br />Length: 0.05 km<br />R: 0.025 Ohm<br />X: 0.004 Ohm<br />\", \"Index: 37<br />Name: None<br />Length: 0.05 km<br />R: 0.025 Ohm<br />X: 0.004 Ohm<br />\", \"Index: 38<br />Name: None<br />Length: 0.05 km<br />R: 0.025 Ohm<br />X: 0.004 Ohm<br />\", \"Index: 39<br />Name: None<br />Length: 0.05 km<br />R: 0.025 Ohm<br />X: 0.004 Ohm<br />\", \"Index: 40<br />Name: None<br />Length: 0.062 km<br />R: 0.031 Ohm<br />X: 0.006 Ohm<br />\", \"Index: 41<br />Name: None<br />Length: 0.062 km<br />R: 0.031 Ohm<br />X: 0.006 Ohm<br />\", \"Index: 42<br />Name: None<br />Length: 0.05 km<br />R: 0.025 Ohm<br />X: 0.004 Ohm<br />\", \"Index: 43<br />Name: None<br />Length: 0.05 km<br />R: 0.025 Ohm<br />X: 0.004 Ohm<br />\", \"Index: 44<br />Name: None<br />Length: 0.05 km<br />R: 0.025 Ohm<br />X: 0.004 Ohm<br />\", \"Index: 45<br />Name: None<br />Length: 0.05 km<br />R: 0.025 Ohm<br />X: 0.004 Ohm<br />\", \"Index: 46<br />Name: None<br />Length: 0.05 km<br />R: 0.025 Ohm<br />X: 0.004 Ohm<br />\", \"Index: 47<br />Name: None<br />Length: 0.05 km<br />R: 0.025 Ohm<br />X: 0.004 Ohm<br />\", \"Index: 48<br />Name: None<br />Length: 0.05 km<br />R: 0.025 Ohm<br />X: 0.004 Ohm<br />\", \"Index: 49<br />Name: None<br />Length: 0.05 km<br />R: 0.025 Ohm<br />X: 0.004 Ohm<br />\", \"Index: 50<br />Name: None<br />Length: 0.05 km<br />R: 0.025 Ohm<br />X: 0.004 Ohm<br />\", \"Index: 51<br />Name: None<br />Length: 0.05 km<br />R: 0.025 Ohm<br />X: 0.004 Ohm<br />\", \"Index: 52<br />Name: None<br />Length: 0.05 km<br />R: 0.025 Ohm<br />X: 0.004 Ohm<br />\", \"Index: 53<br />Name: None<br />Length: 0.05 km<br />R: 0.025 Ohm<br />X: 0.004 Ohm<br />\", \"Index: 54<br />Name: None<br />Length: 0.05 km<br />R: 0.025 Ohm<br />X: 0.004 Ohm<br />\", \"Index: 55<br />Name: None<br />Length: 0.05 km<br />R: 0.025 Ohm<br />X: 0.004 Ohm<br />\", \"Index: 56<br />Name: None<br />Length: 0.05 km<br />R: 0.025 Ohm<br />X: 0.004 Ohm<br />\", \"Index: 57<br />Name: None<br />Length: 0.05 km<br />R: 0.025 Ohm<br />X: 0.004 Ohm<br />\", \"Index: 58<br />Name: None<br />Length: 0.062 km<br />R: 0.031 Ohm<br />X: 0.006 Ohm<br />\", \"Index: 59<br />Name: None<br />Length: 0.062 km<br />R: 0.031 Ohm<br />X: 0.006 Ohm<br />\", \"Index: 60<br />Name: None<br />Length: 0.05 km<br />R: 0.025 Ohm<br />X: 0.004 Ohm<br />\", \"Index: 61<br />Name: None<br />Length: 0.05 km<br />R: 0.025 Ohm<br />X: 0.004 Ohm<br />\", \"Index: 62<br />Name: None<br />Length: 0.05 km<br />R: 0.025 Ohm<br />X: 0.004 Ohm<br />\", \"Index: 63<br />Name: None<br />Length: 0.05 km<br />R: 0.025 Ohm<br />X: 0.004 Ohm<br />\", \"Index: 64<br />Name: None<br />Length: 0.05 km<br />R: 0.025 Ohm<br />X: 0.004 Ohm<br />\", \"Index: 65<br />Name: None<br />Length: 0.05 km<br />R: 0.025 Ohm<br />X: 0.004 Ohm<br />\", \"Index: 66<br />Name: None<br />Length: 0.05 km<br />R: 0.025 Ohm<br />X: 0.004 Ohm<br />\", \"Index: 67<br />Name: None<br />Length: 0.05 km<br />R: 0.025 Ohm<br />X: 0.004 Ohm<br />\", \"Index: 68<br />Name: None<br />Length: 0.05 km<br />R: 0.025 Ohm<br />X: 0.004 Ohm<br />\", \"Index: 69<br />Name: None<br />Length: 0.05 km<br />R: 0.025 Ohm<br />X: 0.004 Ohm<br />\", \"Index: 70<br />Name: None<br />Length: 0.05 km<br />R: 0.025 Ohm<br />X: 0.004 Ohm<br />\", \"Index: 71<br />Name: None<br />Length: 0.05 km<br />R: 0.025 Ohm<br />X: 0.004 Ohm<br />\", \"Index: 72<br />Name: None<br />Length: 0.05 km<br />R: 0.025 Ohm<br />X: 0.004 Ohm<br />\", \"Index: 73<br />Name: None<br />Length: 0.05 km<br />R: 0.025 Ohm<br />X: 0.004 Ohm<br />\", \"Index: 74<br />Name: None<br />Length: 0.05 km<br />R: 0.025 Ohm<br />X: 0.004 Ohm<br />\", \"Index: 75<br />Name: None<br />Length: 0.05 km<br />R: 0.025 Ohm<br />X: 0.004 Ohm<br />\"], \"type\": \"scatter\", \"x\": [0.54], \"y\": [0.0]}, {\"hoverinfo\": \"text\", \"marker\": {\"color\": \"rgb(255, 255, 0)\", \"size\": 20.0, \"symbol\": \"square\"}, \"mode\": \"markers\", \"name\": \"external_grid\", \"text\": [\"Index: 0<br />Name: Slack bus<br />V_m: 1.0 p.u.<br />V_a: 0.0 \\u00b0<br />\"], \"type\": \"scatter\", \"x\": [0.0], \"y\": [0.0]}, {\"hoverinfo\": \"text\", \"marker\": {\"color\": \"rgb(0, 0, 255)\", \"size\": 10, \"symbol\": \"circle\"}, \"mode\": \"markers\", \"name\": \"buses\", \"text\": [\"Index: 0<br />Name: Bus 0<br />V_n: 132.0 kV<br />\", \"Index: 1<br />Name: Bus 1<br />V_n: 11.0 kV<br />\", \"Index: 2<br />Name: Bus 2<br />V_n: 11.0 kV<br />\", \"Index: 3<br />Name: Bus 20<br />V_n: 0.415 kV<br />\", \"Index: 4<br />Name: Bus 21<br />V_n: 0.415 kV<br />\", \"Index: 5<br />Name: Bus 21.1<br />V_n: 0.415 kV<br />\", \"Index: 6<br />Name: Bus 22<br />V_n: 0.415 kV<br />\", \"Index: 7<br />Name: Bus 22.1<br />V_n: 0.415 kV<br />\", \"Index: 8<br />Name: Bus 23<br />V_n: 0.415 kV<br />\", \"Index: 9<br />Name: Bus 23.1<br />V_n: 0.415 kV<br />\", \"Index: 10<br />Name: Bus 24<br />V_n: 0.415 kV<br />\", \"Index: 11<br />Name: Bus 24.1<br />V_n: 0.415 kV<br />\", \"Index: 12<br />Name: Bus 25<br />V_n: 0.415 kV<br />\", \"Index: 13<br />Name: Bus 25.1<br />V_n: 0.415 kV<br />\", \"Index: 14<br />Name: Bus 26<br />V_n: 0.415 kV<br />\", \"Index: 15<br />Name: Bus 26.1<br />V_n: 0.415 kV<br />\", \"Index: 16<br />Name: Bus 27<br />V_n: 0.415 kV<br />\", \"Index: 17<br />Name: Bus 27.1<br />V_n: 0.415 kV<br />\", \"Index: 18<br />Name: Bus 28<br />V_n: 0.415 kV<br />\", \"Index: 19<br />Name: Bus 28.1<br />V_n: 0.415 kV<br />\", \"Index: 20<br />Name: Bus 29<br />V_n: 0.415 kV<br />\", \"Index: 21<br />Name: Bus 29.1<br />V_n: 0.415 kV<br />\", \"Index: 22<br />Name: Bus 3<br />V_n: 11.0 kV<br />\", \"Index: 23<br />Name: Bus 30<br />V_n: 0.415 kV<br />\", \"Index: 24<br />Name: Bus 31<br />V_n: 0.415 kV<br />\", \"Index: 25<br />Name: Bus 31.1<br />V_n: 0.415 kV<br />\", \"Index: 26<br />Name: Bus 32<br />V_n: 0.415 kV<br />\", \"Index: 27<br />Name: Bus 32.1<br />V_n: 0.415 kV<br />\", \"Index: 28<br />Name: Bus 33<br />V_n: 0.415 kV<br />\", \"Index: 29<br />Name: Bus 33.1<br />V_n: 0.415 kV<br />\", \"Index: 30<br />Name: Bus 34<br />V_n: 0.415 kV<br />\", \"Index: 31<br />Name: Bus 34.1<br />V_n: 0.415 kV<br />\", \"Index: 32<br />Name: Bus 35<br />V_n: 0.415 kV<br />\", \"Index: 33<br />Name: Bus 35.1<br />V_n: 0.415 kV<br />\", \"Index: 34<br />Name: Bus 36<br />V_n: 0.415 kV<br />\", \"Index: 35<br />Name: Bus 36.1<br />V_n: 0.415 kV<br />\", \"Index: 36<br />Name: Bus 37<br />V_n: 0.415 kV<br />\", \"Index: 37<br />Name: Bus 37.1<br />V_n: 0.415 kV<br />\", \"Index: 38<br />Name: Bus 38<br />V_n: 0.415 kV<br />\", \"Index: 39<br />Name: Bus 38.1<br />V_n: 0.415 kV<br />\", \"Index: 40<br />Name: Bus 39<br />V_n: 0.415 kV<br />\", \"Index: 41<br />Name: Bus 39.1<br />V_n: 0.415 kV<br />\", \"Index: 42<br />Name: Bus 4<br />V_n: 11.0 kV<br />\", \"Index: 43<br />Name: Bus 40<br />V_n: 0.415 kV<br />\", \"Index: 44<br />Name: Bus 41<br />V_n: 0.415 kV<br />\", \"Index: 45<br />Name: Bus 41.1<br />V_n: 0.415 kV<br />\", \"Index: 46<br />Name: Bus 42<br />V_n: 0.415 kV<br />\", \"Index: 47<br />Name: Bus 42.1<br />V_n: 0.415 kV<br />\", \"Index: 48<br />Name: Bus 43<br />V_n: 0.415 kV<br />\", \"Index: 49<br />Name: Bus 43.1<br />V_n: 0.415 kV<br />\", \"Index: 50<br />Name: Bus 44<br />V_n: 0.415 kV<br />\", \"Index: 51<br />Name: Bus 44.1<br />V_n: 0.415 kV<br />\", \"Index: 52<br />Name: Bus 45<br />V_n: 0.415 kV<br />\", \"Index: 53<br />Name: Bus 45.1<br />V_n: 0.415 kV<br />\", \"Index: 54<br />Name: Bus 46<br />V_n: 0.415 kV<br />\", \"Index: 55<br />Name: Bus 46.1<br />V_n: 0.415 kV<br />\", \"Index: 56<br />Name: Bus 47<br />V_n: 0.415 kV<br />\", \"Index: 57<br />Name: Bus 47.1<br />V_n: 0.415 kV<br />\", \"Index: 58<br />Name: Bus 48<br />V_n: 0.415 kV<br />\", \"Index: 59<br />Name: Bus 48.1<br />V_n: 0.415 kV<br />\", \"Index: 60<br />Name: Bus 49<br />V_n: 0.415 kV<br />\", \"Index: 61<br />Name: Bus 49.1<br />V_n: 0.415 kV<br />\", \"Index: 62<br />Name: Bus 5<br />V_n: 11.0 kV<br />\", \"Index: 63<br />Name: Bus 50<br />V_n: 0.415 kV<br />\", \"Index: 64<br />Name: Bus 51<br />V_n: 0.415 kV<br />\", \"Index: 65<br />Name: Bus 51.1<br />V_n: 0.415 kV<br />\", \"Index: 66<br />Name: Bus 52<br />V_n: 0.415 kV<br />\", \"Index: 67<br />Name: Bus 52.1<br />V_n: 0.415 kV<br />\", \"Index: 68<br />Name: Bus 53<br />V_n: 0.415 kV<br />\", \"Index: 69<br />Name: Bus 53.1<br />V_n: 0.415 kV<br />\", \"Index: 70<br />Name: Bus 54<br />V_n: 0.415 kV<br />\", \"Index: 71<br />Name: Bus 54.1<br />V_n: 0.415 kV<br />\", \"Index: 72<br />Name: Bus 55<br />V_n: 0.415 kV<br />\", \"Index: 73<br />Name: Bus 55.1<br />V_n: 0.415 kV<br />\", \"Index: 74<br />Name: Bus 56<br />V_n: 0.415 kV<br />\", \"Index: 75<br />Name: Bus 56.1<br />V_n: 0.415 kV<br />\", \"Index: 76<br />Name: Bus 57<br />V_n: 0.415 kV<br />\", \"Index: 77<br />Name: Bus 57.1<br />V_n: 0.415 kV<br />\", \"Index: 78<br />Name: Bus 58<br />V_n: 0.415 kV<br />\", \"Index: 79<br />Name: Bus 58.1<br />V_n: 0.415 kV<br />\", \"Index: 80<br />Name: Bus 59<br />V_n: 0.415 kV<br />\", \"Index: 81<br />Name: Bus 59.1<br />V_n: 0.415 kV<br />\"], \"type\": \"scatter\", \"x\": [0.0, 0.0, 1.08, 1.08, 1.08, 1.08, 1.08, 1.08, 1.08, 1.08, 1.08, 1.08, 1.08, 1.08, 1.08, 1.08, 1.08, 1.08, 1.08, 1.08, 1.08, 1.08, 1.26, 1.26, 1.26, 1.26, 1.26, 1.26, 1.26, 1.26, 1.26, 1.26, 1.26, 1.26, 1.26, 1.26, 1.26, 1.26, 1.26, 1.26, 1.26, 1.26, 1.44, 1.44, 1.44, 1.44, 1.44, 1.44, 1.44, 1.44, 1.44, 1.44, 1.44, 1.44, 1.44, 1.44, 1.44, 1.44, 1.44, 1.44, 1.44, 1.44, 1.6199999999999999, 1.6199999999999999, 1.6199999999999999, 1.6199999999999999, 1.6199999999999999, 1.6199999999999999, 1.6199999999999999, 1.6199999999999999, 1.6199999999999999, 1.6199999999999999, 1.6199999999999999, 1.6199999999999999, 1.6199999999999999, 1.6199999999999999, 1.6199999999999999, 1.6199999999999999, 1.6199999999999999, 1.6199999999999999, 1.6199999999999999, 1.6199999999999999], \"y\": [0.0, 0.0, 0.0, 0.0, 0.0625, -0.0625, 0.1125, -0.1125, 0.16250000000000003, -0.16250000000000003, 0.21250000000000002, -0.21250000000000002, 0.2625, -0.2625, 0.31250000000000006, -0.31250000000000006, 0.36250000000000004, -0.36250000000000004, 0.41250000000000003, -0.41250000000000003, 0.4625, -0.4625, 0.0, 0.0, 0.0625, -0.0625, 0.1125, -0.1125, 0.16250000000000003, -0.16250000000000003, 0.21250000000000002, -0.21250000000000002, 0.2625, -0.2625, 0.31250000000000006, -0.31250000000000006, 0.36250000000000004, -0.36250000000000004, 0.41250000000000003, -0.41250000000000003, 0.4625, -0.4625, 0.0, 0.0, 0.0625, -0.0625, 0.1125, -0.1125, 0.16250000000000003, -0.16250000000000003, 0.21250000000000002, -0.21250000000000002, 0.2625, -0.2625, 0.31250000000000006, -0.31250000000000006, 0.36250000000000004, -0.36250000000000004, 0.41250000000000003, -0.41250000000000003, 0.4625, -0.4625, 0.0, 0.0, 0.0625, -0.0625, 0.1125, -0.1125, 0.16250000000000003, -0.16250000000000003, 0.21250000000000002, -0.21250000000000002, 0.2625, -0.2625, 0.31250000000000006, -0.31250000000000006, 0.36250000000000004, -0.36250000000000004, 0.41250000000000003, -0.41250000000000003, 0.4625, -0.4625]}],\n",
              "                        {\"autosize\": true, \"height\": 399.6913580246914, \"hovermode\": \"closest\", \"margin\": {\"b\": 5, \"l\": 5, \"r\": 5, \"t\": 5}, \"showlegend\": true, \"template\": {\"data\": {\"bar\": [{\"error_x\": {\"color\": \"#2a3f5f\"}, \"error_y\": {\"color\": \"#2a3f5f\"}, \"marker\": {\"line\": {\"color\": \"#E5ECF6\", \"width\": 0.5}}, \"type\": \"bar\"}], \"barpolar\": [{\"marker\": {\"line\": {\"color\": \"#E5ECF6\", \"width\": 0.5}}, \"type\": \"barpolar\"}], \"carpet\": [{\"aaxis\": {\"endlinecolor\": \"#2a3f5f\", \"gridcolor\": \"white\", \"linecolor\": \"white\", \"minorgridcolor\": \"white\", \"startlinecolor\": \"#2a3f5f\"}, \"baxis\": {\"endlinecolor\": \"#2a3f5f\", \"gridcolor\": \"white\", \"linecolor\": \"white\", \"minorgridcolor\": \"white\", \"startlinecolor\": \"#2a3f5f\"}, \"type\": \"carpet\"}], \"choropleth\": [{\"colorbar\": {\"outlinewidth\": 0, \"ticks\": \"\"}, \"type\": \"choropleth\"}], \"contour\": [{\"colorbar\": {\"outlinewidth\": 0, \"ticks\": \"\"}, \"colorscale\": [[0.0, \"#0d0887\"], [0.1111111111111111, \"#46039f\"], [0.2222222222222222, \"#7201a8\"], [0.3333333333333333, \"#9c179e\"], [0.4444444444444444, \"#bd3786\"], [0.5555555555555556, \"#d8576b\"], [0.6666666666666666, \"#ed7953\"], [0.7777777777777778, \"#fb9f3a\"], [0.8888888888888888, \"#fdca26\"], [1.0, \"#f0f921\"]], \"type\": \"contour\"}], \"contourcarpet\": [{\"colorbar\": {\"outlinewidth\": 0, \"ticks\": \"\"}, \"type\": \"contourcarpet\"}], \"heatmap\": [{\"colorbar\": {\"outlinewidth\": 0, \"ticks\": \"\"}, \"colorscale\": [[0.0, \"#0d0887\"], [0.1111111111111111, \"#46039f\"], [0.2222222222222222, \"#7201a8\"], [0.3333333333333333, \"#9c179e\"], [0.4444444444444444, \"#bd3786\"], [0.5555555555555556, \"#d8576b\"], [0.6666666666666666, \"#ed7953\"], [0.7777777777777778, \"#fb9f3a\"], [0.8888888888888888, \"#fdca26\"], [1.0, \"#f0f921\"]], \"type\": \"heatmap\"}], \"heatmapgl\": [{\"colorbar\": {\"outlinewidth\": 0, \"ticks\": \"\"}, \"colorscale\": [[0.0, \"#0d0887\"], [0.1111111111111111, \"#46039f\"], [0.2222222222222222, \"#7201a8\"], [0.3333333333333333, \"#9c179e\"], [0.4444444444444444, \"#bd3786\"], [0.5555555555555556, \"#d8576b\"], [0.6666666666666666, \"#ed7953\"], [0.7777777777777778, \"#fb9f3a\"], [0.8888888888888888, \"#fdca26\"], [1.0, \"#f0f921\"]], \"type\": \"heatmapgl\"}], \"histogram\": [{\"marker\": {\"colorbar\": {\"outlinewidth\": 0, \"ticks\": \"\"}}, \"type\": \"histogram\"}], \"histogram2d\": [{\"colorbar\": {\"outlinewidth\": 0, \"ticks\": \"\"}, \"colorscale\": [[0.0, \"#0d0887\"], [0.1111111111111111, \"#46039f\"], [0.2222222222222222, \"#7201a8\"], [0.3333333333333333, \"#9c179e\"], [0.4444444444444444, \"#bd3786\"], [0.5555555555555556, \"#d8576b\"], [0.6666666666666666, \"#ed7953\"], [0.7777777777777778, \"#fb9f3a\"], [0.8888888888888888, \"#fdca26\"], [1.0, \"#f0f921\"]], \"type\": \"histogram2d\"}], \"histogram2dcontour\": [{\"colorbar\": {\"outlinewidth\": 0, \"ticks\": \"\"}, \"colorscale\": [[0.0, \"#0d0887\"], [0.1111111111111111, \"#46039f\"], [0.2222222222222222, \"#7201a8\"], [0.3333333333333333, \"#9c179e\"], [0.4444444444444444, \"#bd3786\"], [0.5555555555555556, \"#d8576b\"], [0.6666666666666666, \"#ed7953\"], [0.7777777777777778, \"#fb9f3a\"], [0.8888888888888888, \"#fdca26\"], [1.0, \"#f0f921\"]], \"type\": \"histogram2dcontour\"}], \"mesh3d\": [{\"colorbar\": {\"outlinewidth\": 0, \"ticks\": \"\"}, \"type\": \"mesh3d\"}], \"parcoords\": [{\"line\": {\"colorbar\": {\"outlinewidth\": 0, \"ticks\": \"\"}}, \"type\": \"parcoords\"}], \"pie\": [{\"automargin\": true, \"type\": \"pie\"}], \"scatter\": [{\"marker\": {\"colorbar\": {\"outlinewidth\": 0, \"ticks\": \"\"}}, \"type\": \"scatter\"}], \"scatter3d\": [{\"line\": {\"colorbar\": {\"outlinewidth\": 0, \"ticks\": \"\"}}, \"marker\": {\"colorbar\": {\"outlinewidth\": 0, \"ticks\": \"\"}}, \"type\": \"scatter3d\"}], \"scattercarpet\": [{\"marker\": {\"colorbar\": {\"outlinewidth\": 0, \"ticks\": \"\"}}, \"type\": \"scattercarpet\"}], \"scattergeo\": [{\"marker\": {\"colorbar\": {\"outlinewidth\": 0, \"ticks\": \"\"}}, \"type\": \"scattergeo\"}], \"scattergl\": [{\"marker\": {\"colorbar\": {\"outlinewidth\": 0, \"ticks\": \"\"}}, \"type\": \"scattergl\"}], \"scattermapbox\": [{\"marker\": {\"colorbar\": {\"outlinewidth\": 0, \"ticks\": \"\"}}, \"type\": \"scattermapbox\"}], \"scatterpolar\": [{\"marker\": {\"colorbar\": {\"outlinewidth\": 0, \"ticks\": \"\"}}, \"type\": \"scatterpolar\"}], \"scatterpolargl\": [{\"marker\": {\"colorbar\": {\"outlinewidth\": 0, \"ticks\": \"\"}}, \"type\": \"scatterpolargl\"}], \"scatterternary\": [{\"marker\": {\"colorbar\": {\"outlinewidth\": 0, \"ticks\": \"\"}}, \"type\": \"scatterternary\"}], \"surface\": [{\"colorbar\": {\"outlinewidth\": 0, \"ticks\": \"\"}, \"colorscale\": [[0.0, \"#0d0887\"], [0.1111111111111111, \"#46039f\"], [0.2222222222222222, \"#7201a8\"], [0.3333333333333333, \"#9c179e\"], [0.4444444444444444, \"#bd3786\"], [0.5555555555555556, \"#d8576b\"], [0.6666666666666666, \"#ed7953\"], [0.7777777777777778, \"#fb9f3a\"], [0.8888888888888888, \"#fdca26\"], [1.0, \"#f0f921\"]], \"type\": \"surface\"}], \"table\": [{\"cells\": {\"fill\": {\"color\": \"#EBF0F8\"}, \"line\": {\"color\": \"white\"}}, \"header\": {\"fill\": {\"color\": \"#C8D4E3\"}, \"line\": {\"color\": \"white\"}}, \"type\": \"table\"}]}, \"layout\": {\"annotationdefaults\": {\"arrowcolor\": \"#2a3f5f\", \"arrowhead\": 0, \"arrowwidth\": 1}, \"coloraxis\": {\"colorbar\": {\"outlinewidth\": 0, \"ticks\": \"\"}}, \"colorscale\": {\"diverging\": [[0, \"#8e0152\"], [0.1, \"#c51b7d\"], [0.2, \"#de77ae\"], [0.3, \"#f1b6da\"], [0.4, \"#fde0ef\"], [0.5, \"#f7f7f7\"], [0.6, \"#e6f5d0\"], [0.7, \"#b8e186\"], [0.8, \"#7fbc41\"], [0.9, \"#4d9221\"], [1, \"#276419\"]], \"sequential\": [[0.0, \"#0d0887\"], [0.1111111111111111, \"#46039f\"], [0.2222222222222222, \"#7201a8\"], [0.3333333333333333, \"#9c179e\"], [0.4444444444444444, \"#bd3786\"], [0.5555555555555556, \"#d8576b\"], [0.6666666666666666, \"#ed7953\"], [0.7777777777777778, \"#fb9f3a\"], [0.8888888888888888, \"#fdca26\"], [1.0, \"#f0f921\"]], \"sequentialminus\": [[0.0, \"#0d0887\"], [0.1111111111111111, \"#46039f\"], [0.2222222222222222, \"#7201a8\"], [0.3333333333333333, \"#9c179e\"], [0.4444444444444444, \"#bd3786\"], [0.5555555555555556, \"#d8576b\"], [0.6666666666666666, \"#ed7953\"], [0.7777777777777778, \"#fb9f3a\"], [0.8888888888888888, \"#fdca26\"], [1.0, \"#f0f921\"]]}, \"colorway\": [\"#636efa\", \"#EF553B\", \"#00cc96\", \"#ab63fa\", \"#FFA15A\", \"#19d3f3\", \"#FF6692\", \"#B6E880\", \"#FF97FF\", \"#FECB52\"], \"font\": {\"color\": \"#2a3f5f\"}, \"geo\": {\"bgcolor\": \"white\", \"lakecolor\": \"white\", \"landcolor\": \"#E5ECF6\", \"showlakes\": true, \"showland\": true, \"subunitcolor\": \"white\"}, \"hoverlabel\": {\"align\": \"left\"}, \"hovermode\": \"closest\", \"mapbox\": {\"style\": \"light\"}, \"paper_bgcolor\": \"white\", \"plot_bgcolor\": \"#E5ECF6\", \"polar\": {\"angularaxis\": {\"gridcolor\": \"white\", \"linecolor\": \"white\", \"ticks\": \"\"}, \"bgcolor\": \"#E5ECF6\", \"radialaxis\": {\"gridcolor\": \"white\", \"linecolor\": \"white\", \"ticks\": \"\"}}, \"scene\": {\"xaxis\": {\"backgroundcolor\": \"#E5ECF6\", \"gridcolor\": \"white\", \"gridwidth\": 2, \"linecolor\": \"white\", \"showbackground\": true, \"ticks\": \"\", \"zerolinecolor\": \"white\"}, \"yaxis\": {\"backgroundcolor\": \"#E5ECF6\", \"gridcolor\": \"white\", \"gridwidth\": 2, \"linecolor\": \"white\", \"showbackground\": true, \"ticks\": \"\", \"zerolinecolor\": \"white\"}, \"zaxis\": {\"backgroundcolor\": \"#E5ECF6\", \"gridcolor\": \"white\", \"gridwidth\": 2, \"linecolor\": \"white\", \"showbackground\": true, \"ticks\": \"\", \"zerolinecolor\": \"white\"}}, \"shapedefaults\": {\"line\": {\"color\": \"#2a3f5f\"}}, \"ternary\": {\"aaxis\": {\"gridcolor\": \"white\", \"linecolor\": \"white\", \"ticks\": \"\"}, \"baxis\": {\"gridcolor\": \"white\", \"linecolor\": \"white\", \"ticks\": \"\"}, \"bgcolor\": \"#E5ECF6\", \"caxis\": {\"gridcolor\": \"white\", \"linecolor\": \"white\", \"ticks\": \"\"}}, \"title\": {\"x\": 0.05}, \"xaxis\": {\"automargin\": true, \"gridcolor\": \"white\", \"linecolor\": \"white\", \"ticks\": \"\", \"title\": {\"standoff\": 15}, \"zerolinecolor\": \"white\", \"zerolinewidth\": 2}, \"yaxis\": {\"automargin\": true, \"gridcolor\": \"white\", \"linecolor\": \"white\", \"ticks\": \"\", \"title\": {\"standoff\": 15}, \"zerolinecolor\": \"white\", \"zerolinewidth\": 2}}}, \"title\": {\"font\": {\"size\": 16}}, \"width\": 700.0, \"xaxis\": {\"showgrid\": false, \"showticklabels\": false, \"zeroline\": false}, \"yaxis\": {\"showgrid\": false, \"showticklabels\": false, \"zeroline\": false}},\n",
              "                        {\"responsive\": true}\n",
              "                    ).then(function(){\n",
              "                            \n",
              "var gd = document.getElementById('d7548cd7-8cb4-4419-ba44-e8cd1bdce931');\n",
              "var x = new MutationObserver(function (mutations, observer) {{\n",
              "        var display = window.getComputedStyle(gd).display;\n",
              "        if (!display || display === 'none') {{\n",
              "            console.log([gd, 'removed!']);\n",
              "            Plotly.purge(gd);\n",
              "            observer.disconnect();\n",
              "        }}\n",
              "}});\n",
              "\n",
              "// Listen for the removal of the full notebook cells\n",
              "var notebookContainer = gd.closest('#notebook-container');\n",
              "if (notebookContainer) {{\n",
              "    x.observe(notebookContainer, {childList: true});\n",
              "}}\n",
              "\n",
              "// Listen for the clearing of the current output cell\n",
              "var outputEl = gd.closest('.output');\n",
              "if (outputEl) {{\n",
              "    x.observe(outputEl, {childList: true});\n",
              "}}\n",
              "\n",
              "                        })\n",
              "                };\n",
              "                \n",
              "            </script>\n",
              "        </div>\n",
              "</body>\n",
              "</html>"
            ]
          },
          "metadata": {}
        }
      ]
    },
    {
      "cell_type": "code",
      "metadata": {
        "id": "YS4dRna12rdL"
      },
      "source": [
        "# create loads\n",
        "for i in range(2,6):\n",
        "  for j in range(1,10):\n",
        "    if j == 9:\n",
        "      p_mw = ADMD_MW\n",
        "      q_mvar = Q_MVAR\n",
        "    else: \n",
        "      p_mw = ADMD_MW * 3\n",
        "      q_mvar = Q_MVAR * 3\n",
        "    # upward\n",
        "    pp.create_load(net, b[i*10+j], p_mw=p_mw, q_mvar=q_mvar)\n",
        "    # downward\n",
        "    pp.create_load(net, b[i*10+j+0.1], p_mw=p_mw, q_mvar=q_mvar)"
      ],
      "id": "YS4dRna12rdL",
      "execution_count": 16,
      "outputs": []
    },
    {
      "cell_type": "code",
      "metadata": {
        "id": "rw5vwdFp5ked"
      },
      "source": [
        "# create pv gen\n",
        "for i in range(2,6):\n",
        "  for j in range(1,10):\n",
        "    if j == 9:\n",
        "      p_mw = (-1) * pv_MWp * pv_cf\n",
        "      q_mvar = 0\n",
        "    else: \n",
        "      p_mw = (-1) * pv_MWp * pv_cf * 3\n",
        "      q_mvar = 0 * 3\n",
        "    # upward\n",
        "    pp.create_load(net, b[i*10+j], p_mw=p_mw, q_mvar=q_mvar)\n",
        "    # downward\n",
        "    pp.create_load(net, b[i*10+j+0.1], p_mw=p_mw, q_mvar=q_mvar)"
      ],
      "id": "rw5vwdFp5ked",
      "execution_count": 17,
      "outputs": []
    },
    {
      "cell_type": "code",
      "metadata": {
        "id": "HZXbIO--5HU9"
      },
      "source": [
        "# run network\n",
        "pp.runpp(net, algorithm='nr');"
      ],
      "id": "HZXbIO--5HU9",
      "execution_count": 19,
      "outputs": []
    },
    {
      "cell_type": "code",
      "metadata": {
        "colab": {
          "base_uri": "https://localhost:8080/"
        },
        "id": "7OSfpwl35HXc",
        "outputId": "72e3507d-c2ce-4fa3-95ed-837075756159"
      },
      "source": [
        "# check is any bus has vm_pu below 0.8\n",
        "sum(net.res_bus.vm_pu<0.8)"
      ],
      "id": "7OSfpwl35HXc",
      "execution_count": 20,
      "outputs": [
        {
          "output_type": "execute_result",
          "data": {
            "text/plain": [
              "0"
            ]
          },
          "metadata": {},
          "execution_count": 20
        }
      ]
    },
    {
      "cell_type": "code",
      "metadata": {
        "colab": {
          "base_uri": "https://localhost:8080/",
          "height": 423
        },
        "id": "qHJfAMZP5HZk",
        "outputId": "958cd28c-1e03-44e5-fd06-5c8bd90150af"
      },
      "source": [
        "net.res_bus"
      ],
      "id": "qHJfAMZP5HZk",
      "execution_count": 21,
      "outputs": [
        {
          "output_type": "execute_result",
          "data": {
            "text/html": [
              "<div>\n",
              "<style scoped>\n",
              "    .dataframe tbody tr th:only-of-type {\n",
              "        vertical-align: middle;\n",
              "    }\n",
              "\n",
              "    .dataframe tbody tr th {\n",
              "        vertical-align: top;\n",
              "    }\n",
              "\n",
              "    .dataframe thead th {\n",
              "        text-align: right;\n",
              "    }\n",
              "</style>\n",
              "<table border=\"1\" class=\"dataframe\">\n",
              "  <thead>\n",
              "    <tr style=\"text-align: right;\">\n",
              "      <th></th>\n",
              "      <th>vm_pu</th>\n",
              "      <th>va_degree</th>\n",
              "      <th>p_mw</th>\n",
              "      <th>q_mvar</th>\n",
              "    </tr>\n",
              "  </thead>\n",
              "  <tbody>\n",
              "    <tr>\n",
              "      <th>0</th>\n",
              "      <td>1.000000</td>\n",
              "      <td>0.000000</td>\n",
              "      <td>-0.289265</td>\n",
              "      <td>-0.302614</td>\n",
              "    </tr>\n",
              "    <tr>\n",
              "      <th>1</th>\n",
              "      <td>0.937813</td>\n",
              "      <td>-3.137615</td>\n",
              "      <td>0.000000</td>\n",
              "      <td>0.000000</td>\n",
              "    </tr>\n",
              "    <tr>\n",
              "      <th>2</th>\n",
              "      <td>0.936406</td>\n",
              "      <td>-3.100087</td>\n",
              "      <td>0.000000</td>\n",
              "      <td>0.000000</td>\n",
              "    </tr>\n",
              "    <tr>\n",
              "      <th>3</th>\n",
              "      <td>0.879735</td>\n",
              "      <td>-6.780604</td>\n",
              "      <td>0.000000</td>\n",
              "      <td>0.000000</td>\n",
              "    </tr>\n",
              "    <tr>\n",
              "      <th>4</th>\n",
              "      <td>0.871786</td>\n",
              "      <td>-6.533081</td>\n",
              "      <td>0.003960</td>\n",
              "      <td>0.002904</td>\n",
              "    </tr>\n",
              "    <tr>\n",
              "      <th>...</th>\n",
              "      <td>...</td>\n",
              "      <td>...</td>\n",
              "      <td>...</td>\n",
              "      <td>...</td>\n",
              "    </tr>\n",
              "    <tr>\n",
              "      <th>77</th>\n",
              "      <td>0.849206</td>\n",
              "      <td>-5.812366</td>\n",
              "      <td>0.003960</td>\n",
              "      <td>0.002904</td>\n",
              "    </tr>\n",
              "    <tr>\n",
              "      <th>78</th>\n",
              "      <td>0.848183</td>\n",
              "      <td>-5.778630</td>\n",
              "      <td>0.003960</td>\n",
              "      <td>0.002904</td>\n",
              "    </tr>\n",
              "    <tr>\n",
              "      <th>79</th>\n",
              "      <td>0.848183</td>\n",
              "      <td>-5.778630</td>\n",
              "      <td>0.003960</td>\n",
              "      <td>0.002904</td>\n",
              "    </tr>\n",
              "    <tr>\n",
              "      <th>80</th>\n",
              "      <td>0.847927</td>\n",
              "      <td>-5.770184</td>\n",
              "      <td>0.001320</td>\n",
              "      <td>0.000968</td>\n",
              "    </tr>\n",
              "    <tr>\n",
              "      <th>81</th>\n",
              "      <td>0.847927</td>\n",
              "      <td>-5.770184</td>\n",
              "      <td>0.001320</td>\n",
              "      <td>0.000968</td>\n",
              "    </tr>\n",
              "  </tbody>\n",
              "</table>\n",
              "<p>82 rows × 4 columns</p>\n",
              "</div>"
            ],
            "text/plain": [
              "       vm_pu  va_degree      p_mw    q_mvar\n",
              "0   1.000000   0.000000 -0.289265 -0.302614\n",
              "1   0.937813  -3.137615  0.000000  0.000000\n",
              "2   0.936406  -3.100087  0.000000  0.000000\n",
              "3   0.879735  -6.780604  0.000000  0.000000\n",
              "4   0.871786  -6.533081  0.003960  0.002904\n",
              "..       ...        ...       ...       ...\n",
              "77  0.849206  -5.812366  0.003960  0.002904\n",
              "78  0.848183  -5.778630  0.003960  0.002904\n",
              "79  0.848183  -5.778630  0.003960  0.002904\n",
              "80  0.847927  -5.770184  0.001320  0.000968\n",
              "81  0.847927  -5.770184  0.001320  0.000968\n",
              "\n",
              "[82 rows x 4 columns]"
            ]
          },
          "metadata": {},
          "execution_count": 21
        }
      ]
    },
    {
      "cell_type": "code",
      "metadata": {
        "id": "Hfp_i0_g5HdA"
      },
      "source": [
        ""
      ],
      "id": "Hfp_i0_g5HdA",
      "execution_count": null,
      "outputs": []
    },
    {
      "cell_type": "code",
      "metadata": {
        "id": "-Yh1TKHp5tBv"
      },
      "source": [
        ""
      ],
      "id": "-Yh1TKHp5tBv",
      "execution_count": null,
      "outputs": []
    },
    {
      "cell_type": "code",
      "metadata": {
        "id": "YWWDq7Li5tFN"
      },
      "source": [
        ""
      ],
      "id": "YWWDq7Li5tFN",
      "execution_count": null,
      "outputs": []
    }
  ]
}